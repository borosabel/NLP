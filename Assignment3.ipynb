{
 "cells": [
  {
   "cell_type": "markdown",
   "metadata": {},
   "source": [
    "Please fill out the information of your group!\n",
    "\n",
    "| <p style=\"text-align: center;\">First Name</p>  | <p style=\"text-align: center;\">Family Name</p> | Matr.-No. |\n",
    "| ---------------------------------------------- | ---------------------------------------------- | -------- |\n",
    "| <p style=\"text-align: left\">*EDIT!*</p>| <p style=\"text-align: left\">*EDIT!*</p> | *EDIT!* |\n",
    "| <p style=\"text-align: left\">*EDIT!*</p>| <p style=\"text-align: left\">*EDIT!*</p> | *EDIT!* |\n"
   ]
  },
  {
   "cell_type": "markdown",
   "metadata": {},
   "source": [
    "<h2 style=\"text-align: center\">344.075 KV: Natural Language Processing (WS2022/23)</h2>\n",
    "<h1 style=\"color:rgb(0,120,170)\">Assignment 3</h1>\n",
    "<h2 style=\"color:rgb(0,120,170)\">Document Classification with PyTorch and BERT</h2>"
   ]
  },
  {
   "cell_type": "markdown",
   "metadata": {},
   "source": [
    "<b>Terms of Use</b><br>\n",
    "This  material is prepared for educational purposes at the Johannes Kepler University (JKU) Linz, and is exclusively provided to the registered students of the mentioned course at JKU. It is strictly forbidden to distribute the current file, the contents of the assignment, and its solution. The use or reproduction of this manuscript is only allowed for educational purposes in non-profit organizations, while in this case, the explicit prior acceptance of the author(s) is required.\n",
    "\n",
    "**Authors:** Navid Rekab-saz, Oleg Lesota<br>\n"
   ]
  },
  {
   "cell_type": "markdown",
   "metadata": {},
   "source": [
    "<h2>Table of contents</h2>\n",
    "<ol>\n",
    "    <a href=\"#section-general-guidelines\"><li style=\"font-size:large;font-weight:bold\">General Guidelines</li></a>\n",
    "    <a href=\"#section-tensorboard\"><li style=\"font-size:large;font-weight:bold\">Bonus Task: Logging and Publishing Experiment Results (2 extra point)</li></a>\n",
    "    <a href=\"#section-taskA\"><li style=\"font-size:large;font-weight:bold\">Task A: Document Classification with PyTorch (25 points)</li></a>\n",
    "    <a href=\"#section-taskB\"><li style=\"font-size:large;font-weight:bold\">Task B: Document Classification with BERT (15 points)</li></a>\n",
    "    \n",
    "    \n",
    "</ol>"
   ]
  },
  {
   "cell_type": "markdown",
   "metadata": {},
   "source": [
    "<a name=\"section-general-guidelines\"></a><h2 style=\"color:rgb(0,120,170)\">General Guidelines</h2>"
   ]
  },
  {
   "cell_type": "markdown",
   "metadata": {},
   "source": [
    "### Assignment objective\n",
    "This assignment aims to provide the necessary practices for learning the principles of deep learning programing in NLP using PyTorch. To this end, Task A provides the space for becoming fully familiar with PyTorch programming by implementing a \"simple\" document (sentence) classification model with PyTorch, and Task B extends this classifier with a BERT model. As the assignment requires working with PyTorch and Huggingface Transformers, please familiarize yourself with these libraries using any possible available teaching resources in particular the libraries' documentations. The assignment has in total **40 points**, and also offers **2 extra points** which can cover any missing point.\n",
    "\n",
    "This Notebook encompasses all aspects of the assignment, namely the descriptions of tasks as well as your solutions and reports. Feel free to add any required cell for solutions. The cells can contain code, reports, charts, tables, or any other material, required for the assignment. Feel free to provide the solutions in an interactive and visual way! \n",
    "\n",
    "Please discuss any unclear point in the assignment in the provided forum in MOODLE. It is also encouraged to provide answers to your peer's questions. However when submitting a post, keep in mind to avoid providing solutions. Please let the tutor(s) know shall you find any error or unclarity in the assignment.\n"
   ]
  },
  {
   "cell_type": "markdown",
   "metadata": {},
   "source": [
    "### Libraries & Dataset\n",
    "\n",
    "The assignment should be implemented with recent versions of `Python`, `PyTorch` and, `transformers`. Any standard Python library can be used, so far that the library is free and can be simply installed using `pip` or `conda`. Examples of potentially useful libraries are `scikit-learn`, `numpy`, `scipy`, `gensim`, `nltk`, `spaCy`, and `AllenNLP`. Use the latest stable version of each library.\n",
    "\n",
    "To conduct the experiments, we use a subset of the `HumSet` dataset [1] (https://blog.thedeep.io/humset/). `HumSet` is created by the DEEP (https://www.thedeep.io) project – an open source platform which aims to facilitate processing of textual data for international humanitarian response organizations. The platform enables the classification of text excerpts, extracted from news and reports into a set of domain specific classes. The provided dataset contains the classes (labels) referring to the humanitarian sectors like agriculture, health, and protection. The dataset contains an overall number of 17,301 data points. \n",
    "\n",
    "Download the dataset from the Moodle page of the course.\n",
    "\n",
    "the provided zip file consists of the following files:\n",
    "- `thedeep.subset.train.txt`: Train set in csv format with three fields: sentence_id, text, and label.\n",
    "- `thedeep.subset.validation.txt`: Validation set in csv format with three fields: sentence_id, text, and label.\n",
    "- `thedeep.subset.test.txt`: Test set in csv format with three fields: sentence_id, text, and label.\n",
    "- `thedeep.subset.label.txt`: Captions of the labels.\n",
    "- `thedeep.ToU.txt`: Terms of use of the dataset.\n",
    "\n",
    "[1] HumSet: Dataset of Multilingual Information Extraction and Classification for Humanitarian Crises Response\n",
    "*Selim Fekih, Nicolo' Tamagnone, Benjamin Minixhofer, Ranjan Shrestha, Ximena Contla, Ewan Oglethorpe and Navid Rekabsaz.* \n",
    "In Findings of the 2022 Conference on Empirical Methods in Natural Language Processing (Findings of EMNLP), December 2022.\n"
   ]
  },
  {
   "cell_type": "markdown",
   "metadata": {},
   "source": [
    "### Submission\n",
    "\n",
    "Each group should submit the following two files:\n",
    "\n",
    "- One Jupyter Notebook file (`.ipynb`), containing all the code, results, visualizations, etc. **In the submitted Notebook, all the results and visualizations should already be present, and can be observed simply by loading the Notebook in a browser.** The Notebook must be self-contained, meaning that (if necessary) one can run all the cells from top to bottom without any error. Do not forget to put in your names and student numbers in the first cell of the Notebook. \n",
    "- The HTML file (`.html`) achieved from exporting the Jupyter Notebook to HTML (Download As HTML).\n",
    "\n",
    "You do not need to include the data files in the submission.\n",
    "\n"
   ]
  },
  {
   "cell_type": "markdown",
   "metadata": {},
   "source": [
    "<a name=\"section-tensorboard\"></a><h2 style=\"color:rgb(0,120,170)\">Bonus Task: Logging and Publishing Experiment Results (2 extra point)</h2>"
   ]
  },
  {
   "cell_type": "markdown",
   "metadata": {},
   "source": [
    "In all experiments of this assignment, use any experiment monitoring tool like [`TensorBoard`](https://www.tensorflow.org/tensorboard), [`wandb`](https://wandb.ai) to log and store all useful information about the training and evaluation of the models. Feel free to log any important aspect in particular the changes in evaluation results on validation, in training loss, and in learning rate.\n",
    "\n",
    "After finalizing all experiments and cleaning any unnecessary experiment, **provide the URL to the results monitoring page below**.\n",
    "\n",
    "For instance if using [`TensorBoard.dev`](https://tensorboard.dev), you can run the following command in the folder of log files: `tensorboard dev upload --name my_exp --logdir path/to/output_dir`, and take the provided URL to the TensorBoard's console.\n"
   ]
  },
  {
   "cell_type": "markdown",
   "metadata": {},
   "source": [
    "**URL :** *EDIT!*"
   ]
  },
  {
   "cell_type": "markdown",
   "metadata": {},
   "source": [
    "<a name=\"section-taskA\"></a><h2 style=\"color:rgb(0,120,170)\">Task A: Document Classification with PyTorch (25 points)</h2>"
   ]
  },
  {
   "cell_type": "markdown",
   "metadata": {},
   "source": [
    "The aim of this task is identical to the one of Assignment 2 - Task B, namely to design a document classification model that exploits pre-trained word embeddings. It is of course allowed to use the preprocessed text, the dictionary, or any other relevant code or processings, done in the previous assignments.\n",
    "\n",
    "In this task, you implement a document classification model using PyTorch, which given a document/sentence (consisting of a set of words) predicts the corresponding class. Before getting started with coding, have a look at the <a href=\"#section-tensorboard\">optional task</a>, as you may want to already include `Tensorboard` in the code. The implementation of the classifier should cover the points below.\n",
    "\n",
    "**Preprocessing and dictionary (1 point):** Following previous assignments, load the train, validation, and test datasets, apply necessary preprocessing steps, and create a dictionary of words. \n",
    "\n",
    "**Data batching (4 points):** Using the dictionary, create batches for any given dataset (train/validation/test). Each batch is a two-dimensional matrix of *batch-size* to *max-document-length*, containing the IDs of the words in the corresponding documents. *Batch-size* and *max-document-length* are two hyper-parameters and can be set to any appropriate values (*Batch-size* must be higher than 1 and *max-document-length* at least 50 words). If a document has more than *max-document-length* words, only the first *max-document-length* words should be kept.\n",
    "\n",
    "**Word embedding lookup (2 point):** Using `torch.nn.Embedding`, create a lookup for the embeddings of all the words in the dictionary. The lookup is in fact a matrix, which maps the ID of each word to the corresponding word vector. Similar to Assignment 2, use the pre-trained vectors of a word embedding model (like word2vec or GloVe) to initialize the word embeddings of the lookup. Keep in mind that the embeddings of the words in the lookup should be matched with the correct vector in the pretrained word embedding. If the vector of a word in the lookup does not exist in the pretrained word embeddings, the corresponding vector should be initialized randomly. \n",
    "\n",
    "**Model definition (3 points):** Define the class `ClassificationAverageModel` as a PyTorch model. In the initialization procedure, the model receives the word embedding lookup, and includes it in the model as model's parameters. These embeddings parameters should be trainable, meaning that the word vectors get updated during model training. Feel free to add any other parameters to the model, which might be necessary for accomplishing the functionalities explained in the following.\n",
    "\n",
    "**Forward function (5 points):** The forward function of the model receives a batch of data, and first fetches the corresponding embeddings of the word IDs in the batch using the lookup. Similar to Assignment 2, the embedding of a document is created by calculating the *element-wise mean* of the embeddings of the document's words. Formally, given the document $d$, consisting of words $\\left[ v_1, v_2, ..., v_{|d|} \\right]$, the document representation $\\mathbf{e}_d$ is defined as:\n",
    "\n",
    "<center><div>$\\mathbf{e}_d = \\frac{1}{|d|}\\sum_{i=1}^{|d|}{\\mathbf{e}_{v_i}}$</div></center>\n",
    "\n",
    "where $\\mathbf{e}_{v}$ is the vector of the word $v$, and $|d|$ is the length of the document. An important point in the implementation of this formula is that the documents in the batch might have different lengths and therefore each document should be divided by its corresponding $|d|$. Finally, this document embedding is utilized to predict the probability of the output classes, done by applying a linear transformation from the embeddings size to the number of classes, followed by Softmax. The linear transformation also belongs to the model's parameters and will be learned in training.\n",
    "\n",
    "**Loss Function and optimization (2 point):** The loss between the predicted and the actual classes is calculated using Negative Log Likelihood or Cross Entropy. Update the model's parameters using any appropriate optimization mechanism such as Adam.\n",
    "\n",
    "**Early Stopping (2 points):** After each epoch, evaluate the model on the *validation set* using accuracy. If the evaluation result (accuracy) improves, save the model as the best performing one so far. If the results are not improving after a certain number of evaluation rounds (set as another hyper-parameter) or if training reaches a certain number of epochs, terminate the training procedure. \n",
    "\n",
    "**Test Set Evaluation (1 point):** After finishing the training, load the (already stored) best performing model, and use it for class prediction on the test set.\n",
    "\n",
    "**Reporting (1 point):** During loading and processing the collection, provide sufficient information and examples about the data and the applied processing steps. Report the results of the best performing model on the validation and test set in a table.\n",
    "\n",
    "**Overall functionality of the training procedure (4 point).**\n"
   ]
  },
  {
   "cell_type": "code",
   "execution_count": 20,
   "outputs": [],
   "source": [
    "import numpy as np\n",
    "import pandas as pd\n",
    "import nltk\n",
    "from nltk.stem import WordNetLemmatizer\n",
    "import re\n",
    "import torch\n",
    "from torch.utils.data import DataLoader, Dataset"
   ],
   "metadata": {
    "collapsed": false,
    "ExecuteTime": {
     "end_time": "2023-12-22T15:50:24.806332Z",
     "start_time": "2023-12-22T15:50:23.815159Z"
    }
   }
  },
  {
   "cell_type": "code",
   "execution_count": 34,
   "metadata": {
    "ExecuteTime": {
     "end_time": "2023-12-22T16:27:06.472502Z",
     "start_time": "2023-12-22T16:26:58.138206Z"
    }
   },
   "outputs": [],
   "source": [
    "#Preprocessing pipeline From assignment 1\n",
    "def load_we(word_embeddings_file):\n",
    "    embeddings_dict = {}\n",
    "    with open(word_embeddings_file, 'r', encoding=\"utf-8\") as f:\n",
    "        for line in f:\n",
    "            values = line.split()\n",
    "            word = values[0]\n",
    "            vector = np.asarray(values[1:], \"float32\")\n",
    "            embeddings_dict[word] = vector\n",
    "    return embeddings_dict\n",
    "\n",
    "wordnet_lemmatizer = WordNetLemmatizer()\n",
    "glove_embeddings = load_we(\"./glove.6B/glove.6B.50d.txt\")\n",
    "\n",
    "# Utility functions\n",
    "def read_text(path_to_textfile):\n",
    "    return pd.read_csv(path_to_textfile, names=['sentence_id', 'text', 'label'])\n",
    "\n",
    "def text_to_lowercase(dataframe):\n",
    "    return dataframe['text'].apply(lambda text: text.lower())\n",
    "\n",
    "def remove_punctation(dataframe):\n",
    "    return dataframe['text'].apply(lambda text: re.sub(r'[^\\w\\s]', '', text))\n",
    "\n",
    "def tokenize(dataframe):\n",
    "    return dataframe['text'].apply(lambda text: nltk.word_tokenize(text))\n",
    "\n",
    "def lemmatize_text(text):\n",
    "    lemmatized_text = [wordnet_lemmatizer.lemmatize(word) for word in text]\n",
    "    return lemmatized_text\n",
    "\n",
    "def remove_stopwords_in_text(text):\n",
    "    stopwords = nltk.corpus.stopwords.words('english')\n",
    "    text_without_stopwords = [i for i in text if i not in stopwords]\n",
    "    return text_without_stopwords\n",
    "\n",
    "def remove_stopwords_from_dataframe(dataframe):\n",
    "    return dataframe['text'].apply(lambda text: remove_stopwords_in_text(text))\n",
    "\n",
    "def lemmatize_df(datafarme):\n",
    "    return datafarme['text'].apply(lambda text: lemmatize_text(text))\n",
    "\n",
    "preprocessing_pipeline = [text_to_lowercase,\n",
    "                          remove_punctation,\n",
    "                          tokenize,\n",
    "                          remove_stopwords_from_dataframe,\n",
    "                          lemmatize_df]\n",
    "\n",
    "train_set = read_text('./data/thedeep.subset.train.txt')\n",
    "validation_set = read_text('./data/thedeep.subset.validation.txt')\n",
    "test_set = read_text('./data/thedeep.subset.test.txt')\n",
    "\n",
    "for function in preprocessing_pipeline:\n",
    "    train_set['text'] = function(train_set)\n",
    "    validation_set['text'] = function(validation_set)\n",
    "    test_set['text'] = function(test_set)\n",
    "\n",
    "combined_processed_texts = pd.concat([train_set['text'], validation_set['text'], test_set['text']])\n",
    "all_words = [word for text in combined_processed_texts for word in text]\n",
    "word_set = set(all_words)\n",
    "\n",
    "def initialize_random_embedding(dimensions):\n",
    "    return np.random.random(dimensions)\n",
    "\n",
    "embedding_dimensions = 50\n",
    "\n",
    "# Mapping each word to its embedding\n",
    "word_embeddings = {}\n",
    "index = 0\n",
    "word_embeddings['[PAD]'] = index\n",
    "index += 1\n",
    "for word in word_set:\n",
    "    word_embeddings[word] = index\n",
    "    index += 1\n",
    "\n",
    "# for word in word_set:\n",
    "#     if word in glove_embeddings:\n",
    "#         word_embeddings[word] = glove_embeddings[word]\n",
    "#     else:\n",
    "#         word_embeddings[word] = initialize_random_embedding(embedding_dimensions)"
   ]
  },
  {
   "cell_type": "code",
   "execution_count": 35,
   "outputs": [
    {
     "data": {
      "text/plain": "{'[PAD]': 0,\n 'principal': 1,\n 'peak': 2,\n 'dedan': 3,\n 'sentence': 4,\n 'shelternfis': 5,\n 'lokuru': 6,\n 'pcbssaid': 7,\n 'random': 8,\n 'levels33': 9,\n 'casesthe': 10,\n 'arap': 11,\n 'remarkable': 12,\n 'demobilize': 13,\n 'uncompetitive': 14,\n 'overgrown': 15,\n 'hivaids1': 16,\n 'arrestson': 17,\n '2016insecurity': 18,\n 'todayaccording': 19,\n '4400': 20,\n 'hasakeh': 21,\n 'baron': 22,\n 'halafaya': 23,\n 'explodedidps': 24,\n 'manages': 25,\n 'importance': 26,\n 'chieftaincy': 27,\n 'thre': 28,\n '2845': 29,\n 'barangaysthere': 30,\n 'alzawiyah': 31,\n 'photograph': 32,\n 'lesotho': 33,\n 'homalin': 34,\n 'afternoonfollowing': 35,\n 'threemile': 36,\n 'reattempting': 37,\n 'agreementno': 38,\n 'prospectsin': 39,\n 'sdgusd': 40,\n '6monthold': 41,\n 'shabelleoff': 42,\n 'gaoui': 43,\n 'comparable': 44,\n 'ikdeh': 45,\n 'almahrah': 46,\n 'coliforms': 47,\n 'southwestern': 48,\n 'extremity': 49,\n 'attacksthe': 50,\n 'chart': 51,\n 'flip': 52,\n 'sh5400': 53,\n 'ground2': 54,\n 'leakage': 55,\n 'polarization': 56,\n 'triangulate': 57,\n 'templar': 58,\n 'secretarygeneral': 59,\n 'hargeysailyaas': 60,\n 'suspicious': 61,\n 'extant': 62,\n 'mairie': 63,\n 'collated': 64,\n 'cocle': 65,\n 'n8': 66,\n 'cyril': 67,\n 'investigate': 68,\n 'meet': 69,\n 'nclude': 70,\n 'memory': 71,\n 'burgo': 72,\n 'luckily': 73,\n 'parcel': 74,\n 'subcounties': 75,\n 'nuristan': 76,\n 'karen': 77,\n 'bangla': 78,\n 'possessed': 79,\n 'surpassed': 80,\n '784': 81,\n 'secondseason': 82,\n 'understand': 83,\n 'injustice': 84,\n 'bgdadthe': 85,\n '975': 86,\n 'enarall': 87,\n '20162020': 88,\n 'mentallyill': 89,\n 'stateyesterday': 90,\n '1568k': 91,\n '5478': 92,\n 'areahope': 93,\n 'suspends': 94,\n 'extraordinary': 95,\n 'specialty': 96,\n 'notoriously': 97,\n 'dcog': 98,\n 'dropping': 99,\n '214000': 100,\n 'exclusion': 101,\n 'succumb': 102,\n '215': 103,\n '3312': 104,\n 'ej': 105,\n 'okoloke': 106,\n 'ezzorgovernorate': 107,\n 'defector': 108,\n 'typhoid': 109,\n 'df': 110,\n 'wash': 111,\n '1968': 112,\n 'dshk': 113,\n 'or': 114,\n 'resumption': 115,\n 'shahpoor': 116,\n 'overhaul': 117,\n 'draught': 118,\n 'delivery': 119,\n 'reef': 120,\n 'seasoncereal': 121,\n 'mulling': 122,\n 'gahzal': 123,\n 'pursue': 124,\n 'nearest': 125,\n '13101': 126,\n 'altogether': 127,\n 'ngombe': 128,\n 'ohiyo': 129,\n 'mtwara': 130,\n 'cable': 131,\n 'wk07': 132,\n 'sdfcontrolled': 133,\n '250': 134,\n 'moorehead': 135,\n 'cotninued': 136,\n '2480': 137,\n 'adjusted': 138,\n 'pretrial': 139,\n 'unhcrs': 140,\n 'mzuzu': 141,\n 'chechen': 142,\n 'visuals': 143,\n 'miraculously': 144,\n 'eritrean': 145,\n 'consequencesshe': 146,\n 'veicht': 147,\n '3967': 148,\n '200309': 149,\n 'owing': 150,\n 'cgd': 151,\n '074': 152,\n 'limited': 153,\n 'rainsforecasts': 154,\n 'm3': 155,\n 'reducing': 156,\n '39k': 157,\n 'europeobliged': 158,\n 'lubuk': 159,\n 'airway': 160,\n 'sustainably': 161,\n 'csos': 162,\n 'titling': 163,\n 'segovia': 164,\n '1721': 165,\n 'health1170848': 166,\n 'goraya': 167,\n 'niên': 168,\n 'gynaecological': 169,\n 'badly': 170,\n 'moli': 171,\n 'aog': 172,\n '1742': 173,\n 'intergovernorate': 174,\n 'appointment': 175,\n 'virusinfected': 176,\n 'anthracis': 177,\n 'stationaries': 178,\n 'therefrom': 179,\n 'samaké': 180,\n 'mayyal': 181,\n 'cctv': 182,\n 'alleviates': 183,\n 'ofcial': 184,\n 'bus': 185,\n 'ce90': 186,\n 'still': 187,\n 'falciparum': 188,\n 'precede': 189,\n 'fight': 190,\n 'beliel': 191,\n 'broker': 192,\n 'seemed': 193,\n 'topping': 194,\n 'ghanaian': 195,\n 'merscov': 196,\n 'yengé': 197,\n 'yuval': 198,\n '1429': 199,\n 'antiterrorism': 200,\n 'zanjan': 201,\n 'magdalena': 202,\n '42913': 203,\n 'wahid': 204,\n 'ujjain': 205,\n 'amn': 206,\n 'personsare': 207,\n 'nonno': 208,\n 'oumou': 209,\n '311': 210,\n 'amongbetween': 211,\n 'sinister': 212,\n 'ilcak': 213,\n 'syri': 214,\n 'haqqani': 215,\n 'ratchasima': 216,\n '575': 217,\n '633792houses': 218,\n 'unchecked': 219,\n 'communiqué': 220,\n 'aljmail': 221,\n '28zanu': 222,\n 'washroom': 223,\n 'commodity': 224,\n 'tuban': 225,\n 'hprc': 226,\n 'distanced': 227,\n '2017only': 228,\n 'outbreak4': 229,\n 'bengalurus': 230,\n 'albinism': 231,\n 'unconditional': 232,\n 'period6': 233,\n 'mausi': 234,\n 'sabzal': 235,\n 'karma': 236,\n '804': 237,\n 'cambanane': 238,\n 'gunboat': 239,\n 'bind': 240,\n 'chivos': 241,\n 'asylum': 242,\n 'duterte': 243,\n 'barranquilla': 244,\n 'given': 245,\n 'social': 246,\n 'bwiza': 247,\n 'cf': 248,\n 'unaccounted': 249,\n 'destabilizing': 250,\n 'insecurit': 251,\n 'adapting': 252,\n 'abba': 253,\n 'bhawanipur': 254,\n 'darfuralthough': 255,\n 'indenfiantly': 256,\n 'assigned': 257,\n 'midmarch': 258,\n 'dissipation': 259,\n 'nutritionrelated': 260,\n 'burned': 261,\n 'wideespread': 262,\n 'underfined': 263,\n 'fil': 264,\n '659': 265,\n '11046': 266,\n 'commuter': 267,\n 'parallel': 268,\n 'ngozi': 269,\n 'spe': 270,\n 'employing': 271,\n 'operations3': 272,\n 'mourning': 273,\n 'pgi': 274,\n 'wintertime': 275,\n '4550': 276,\n 'foot': 277,\n 'stigma': 278,\n '625000': 279,\n '26m': 280,\n 'mu': 281,\n 'arranged': 282,\n 'acid31ected': 283,\n '225': 284,\n 'steinitz': 285,\n '405': 286,\n 'anura': 287,\n 'km3': 288,\n 'thing': 289,\n 'ikang': 290,\n 'dcim': 291,\n 'disposes': 292,\n 'onceevery': 293,\n '185mm': 294,\n '145000': 295,\n 'thng': 296,\n 'khamti': 297,\n '4604': 298,\n '600700': 299,\n '9241684': 300,\n 'supportin': 301,\n '545938': 302,\n 'nandi': 303,\n 'abandoning': 304,\n 'scarcityhit': 305,\n 'centrenorth': 306,\n 'ablution': 307,\n '07sep17': 308,\n '5511': 309,\n 'croft': 310,\n 'h2': 311,\n 'yassen': 312,\n 'mid2018': 313,\n 'lodged': 314,\n '419000': 315,\n 'silence': 316,\n 'migron': 317,\n 'thursdaymyanmar': 318,\n 'bagh': 319,\n 'muhatia': 320,\n 'hamid': 321,\n 'aphr': 322,\n '59430': 323,\n 'araya': 324,\n 'timing': 325,\n 'winning': 326,\n 'impotable': 327,\n 'motorbike': 328,\n 'dipole': 329,\n 'henchman': 330,\n 'nombre': 331,\n 'keriwa': 332,\n 'bursting': 333,\n 'gorgadji': 334,\n 'konca': 335,\n 'mbanyanaover': 336,\n 'shore': 337,\n 'ihms': 338,\n 'renewable': 339,\n 'sifontes': 340,\n 'kobuya': 341,\n 'gaitanista': 342,\n 'dfr': 343,\n '244365': 344,\n 'disturbing': 345,\n 'imperative': 346,\n 'panyinjar': 347,\n 'stateth': 348,\n 'rent': 349,\n 'impossible': 350,\n 'thani': 351,\n 'handdug': 352,\n 'precipitously': 353,\n 'adumin': 354,\n 'featured': 355,\n 'aimlessly': 356,\n 'lowlying': 357,\n 'recurrent': 358,\n 'hno': 359,\n 'americares': 360,\n 'saghir': 361,\n 'ominously': 362,\n 'delayed': 363,\n 'u5dr': 364,\n 'kashi': 365,\n 'ouargaye': 366,\n 'mystery': 367,\n 'amanghaliqyzy': 368,\n 'accentuated': 369,\n 'undernutrition': 370,\n 'stuntedness': 371,\n 'kuernyuon': 372,\n 'havinghigh': 373,\n 'shelkter': 374,\n 'shoat': 375,\n 'hepataitis': 376,\n '005': 377,\n 'mode': 378,\n 'tarish': 379,\n 'statebuilding': 380,\n '342': 381,\n 'marchin': 382,\n 'shaddadah': 383,\n 'haratsa': 384,\n '3645': 385,\n '72000': 386,\n 'wide': 387,\n 'foo': 388,\n 'h5n8': 389,\n 'houseohld': 390,\n 'dafi': 391,\n 'revive': 392,\n 'illeret': 393,\n 'achigachia': 394,\n 'equitable': 395,\n 'cheat': 396,\n 'barrack': 397,\n 'ms13': 398,\n 'saturdaydensely': 399,\n 'il76': 400,\n 'hire': 401,\n 'pho': 402,\n 'panyikang': 403,\n 'sheik': 404,\n 'fade': 405,\n 'demolishedseizedsealed': 406,\n 'deat': 407,\n 'saidbargel': 408,\n 'pondu': 409,\n 'particu': 410,\n 'hurochiri': 411,\n 'limiting': 412,\n 'haji': 413,\n 'confirmedthe': 414,\n 'sponsored': 415,\n '140325': 416,\n 'shawalikot': 417,\n '932': 418,\n 'rabak': 419,\n 'nutrition1750820': 420,\n 'bhutan': 421,\n 'abéché': 422,\n 'idps13': 423,\n 'gbude': 424,\n 'joubar': 425,\n 'josh': 426,\n 'congregational': 427,\n 'beijing': 428,\n 'chw': 429,\n 'benzaga': 430,\n 'oneonone': 431,\n 'submit': 432,\n 'riveted': 433,\n 'hygiene': 434,\n 'girl': 435,\n 'pandayan': 436,\n '69254': 437,\n 'pngo': 438,\n '60356': 439,\n 'transferring': 440,\n 'withholding': 441,\n 'entitlement': 442,\n 'consequent': 443,\n 'washowing': 444,\n 'misusing': 445,\n 'consortium': 446,\n 'tomosteng': 447,\n '606': 448,\n 'conditionmost': 449,\n 'sufa': 450,\n 'kyauk': 451,\n 'awddiarrhoea': 452,\n 'lasbela': 453,\n 'polyclinic': 454,\n 'itarians': 455,\n 'oromosomali': 456,\n '1410': 457,\n 'raq': 458,\n 'early': 459,\n '5856family': 460,\n 'workshop': 461,\n 'restrictionsimposed': 462,\n 'banyan': 463,\n 'neighbourhoodbecause': 464,\n '266333': 465,\n '571109': 466,\n 'performed': 467,\n 'acknowledges': 468,\n 'malek': 469,\n '100216with': 470,\n 'jany': 471,\n 'unprepared': 472,\n 'misallocation': 473,\n 'localitiesin': 474,\n 'journalistic': 475,\n 'explored': 476,\n 'turba': 477,\n 'higher12': 478,\n '4in': 479,\n 'deal66': 480,\n 'aid4': 481,\n 'yamoussoukro': 482,\n 'darién': 483,\n 'selfconsumption': 484,\n 'lojore': 485,\n 'governorateincidents': 486,\n 'albireh': 487,\n 'weeding': 488,\n 'osa': 489,\n 'nationin': 490,\n 'calorie': 491,\n 'arrested': 492,\n 'scheme': 493,\n '6305': 494,\n 'nal': 495,\n 'threatens': 496,\n 'vishoi': 497,\n 'dongou': 498,\n 'cluster5': 499,\n '4448': 500,\n '51': 501,\n 'hassle': 502,\n 'shabelle': 503,\n 'wameanwhile': 504,\n '2018to': 505,\n 'overwhelmingly': 506,\n 'rs10000': 507,\n '553258': 508,\n '555400': 509,\n 'blocked': 510,\n 'campsin': 511,\n 'criticalisrael': 512,\n 'colombianvenezuelan': 513,\n 'ike': 514,\n 'doganai': 515,\n '19042017': 516,\n 'paria': 517,\n 'cumhuriyet': 518,\n '468': 519,\n 'berberat': 520,\n 'deathshiiran': 521,\n 'zor': 522,\n 'ferocious': 523,\n 'marara': 524,\n 'facilitiescarlos': 525,\n 'nacionals': 526,\n '978': 527,\n 'commoditiesare': 528,\n 'kuwaitifunded': 529,\n 'regretted': 530,\n 'stillheavily': 531,\n 'kacheliba': 532,\n 'nurmat': 533,\n 'icduygu': 534,\n 'hamed': 535,\n 'depressed': 536,\n 'mnz': 537,\n 'besieging': 538,\n 'deviate': 539,\n 'could': 540,\n 'kanda': 541,\n 'stormwater': 542,\n 'stung': 543,\n 'caterpillar': 544,\n 'kerem': 545,\n 'listed': 546,\n 'ajang': 547,\n 'treatmentthere': 548,\n 'aweil': 549,\n 'deciding': 550,\n 'investigative': 551,\n 'awdaffected': 552,\n 'scar': 553,\n 'renkmelutmalakal': 554,\n 'contention': 555,\n 'showing': 556,\n 'preferred': 557,\n '27696': 558,\n '10': 559,\n 'sahbunda': 560,\n 'raw': 561,\n 'ukiah': 562,\n 'shelternficccm2': 563,\n '148': 564,\n 'mangueira': 565,\n '325': 566,\n 'pistachio': 567,\n '369280': 568,\n 'negotiating': 569,\n 'w36w38': 570,\n 'diphtheraiduring': 571,\n 'ranch': 572,\n 'groundnut': 573,\n 'alier': 574,\n 'inconsistency': 575,\n 'inpalestine': 576,\n 'kandakanda': 577,\n '1610': 578,\n 'childheaded': 579,\n 'inspection': 580,\n 'camilo': 581,\n 'row': 582,\n 'hatiya': 583,\n 'gotheres': 584,\n 'districtincluding': 585,\n 'ignorant': 586,\n 'pollution': 587,\n '15072': 588,\n 'saybuildings': 589,\n 'jongleiand': 590,\n 'developmentthere': 591,\n 'hassan': 592,\n '4193': 593,\n 'kayayei': 594,\n '4589': 595,\n 'aleyadah': 596,\n 'famished': 597,\n '1385': 598,\n 'culturethe': 599,\n '7969': 600,\n 'bont': 601,\n 'experiment': 602,\n 'lilobok': 603,\n 'nestled': 604,\n 'giveaway': 605,\n 'fdmns': 606,\n 'nyakhor': 607,\n 'icane': 608,\n 'codified': 609,\n '258443': 610,\n 'venting': 611,\n 'slaaw': 612,\n 'antislavery': 613,\n 'kikla': 614,\n 'kipini': 615,\n 'philip': 616,\n 'response': 617,\n '1186028': 618,\n 'anybody': 619,\n 'onaccording': 620,\n 'apprehended': 621,\n 'lpr': 622,\n 'frightened': 623,\n 'problem': 624,\n 'duol': 625,\n 'paste': 626,\n 'refrigerated': 627,\n 'parent': 628,\n 'assistance63': 629,\n 'wamala': 630,\n 'zacharia': 631,\n 'horrific': 632,\n 'blessing': 633,\n 'tawarghan': 634,\n 'inactivethus': 635,\n 'fracon': 636,\n 'mixed': 637,\n 'molo': 638,\n 'pnp': 639,\n 'ratnapura': 640,\n '40km': 641,\n 'elgazal': 642,\n 'laf': 643,\n 'police': 644,\n 'khwin': 645,\n 'guiliana': 646,\n '17the': 647,\n 'ksaled': 648,\n 'jubaalthough': 649,\n 'rampant': 650,\n 'saied': 651,\n 'lopa': 652,\n 'statementseveral': 653,\n 'drawn': 654,\n 'intervene': 655,\n 'handicap': 656,\n 'ar': 657,\n 'marka': 658,\n 'ibn': 659,\n 'totalling': 660,\n '27o': 661,\n '215527': 662,\n 'sardani': 663,\n 'fabricated': 664,\n 'gasfuel': 665,\n 'sooq': 666,\n 'yakovlivka': 667,\n 'conducive': 668,\n 'neglectmalit': 669,\n 'apsemo': 670,\n 'procession': 671,\n 'ungrd': 672,\n 'unavailable': 673,\n 'urology': 674,\n 'depreciation': 675,\n 'pentagon': 676,\n 'ction': 677,\n 'ancestor': 678,\n 'waved': 679,\n 'portsmouth': 680,\n 'wet': 681,\n 'allisland': 682,\n 'frontlines': 683,\n 'moses': 684,\n 'wellwatered': 685,\n 'mar': 686,\n 'rerequest': 687,\n 'egyptiancontrolled': 688,\n 'haddath': 689,\n 'alfaqiah': 690,\n 'mirriah': 691,\n 'abudwak': 692,\n 'malnourishedthere': 693,\n 'lokidich': 694,\n '1216hour': 695,\n 'dmrs': 696,\n 'dudumo': 697,\n 'calabarzon': 698,\n 'subzobas': 699,\n 'highlightsthe': 700,\n 'taileng': 701,\n 'longheld': 702,\n 'closest': 703,\n 'eldume': 704,\n 'jobopportunity': 705,\n 'gps': 706,\n 'continuedviolent': 707,\n 'ukbased': 708,\n 'opcwjim': 709,\n '39029': 710,\n 'response157': 711,\n 'polluting': 712,\n 'asha': 713,\n '610': 714,\n 'fdsn': 715,\n 'cholerathe': 716,\n 'abroadso': 717,\n '458': 718,\n 'inpatient': 719,\n 'akwaya': 720,\n 'algorithm': 721,\n 'upend': 722,\n 'guineabissau': 723,\n 'tijani': 724,\n 'jubabacked': 725,\n 'informationifexalc': 726,\n 'separatistcontrolled': 727,\n 'icts': 728,\n 'betel': 729,\n 'hrp': 730,\n 'rodriguez': 731,\n 'avashinbasyan': 732,\n 'bundle': 733,\n 'faizabad': 734,\n 'dawei': 735,\n 'peacebuilding': 736,\n 'macharetí': 737,\n '0f': 738,\n 'mazar': 739,\n 'ghanashyam': 740,\n 'guineaunhcr': 741,\n 'sinsin': 742,\n '2017per': 743,\n 'purani': 744,\n 'hawara': 745,\n 'nawari': 746,\n 'vnrc': 747,\n 'impressivedevelopment': 748,\n 'hadiya': 749,\n 'raid': 750,\n 'rafia': 751,\n '865': 752,\n 'alper': 753,\n 'hide': 754,\n '95877': 755,\n 'million': 756,\n 'treat': 757,\n 'golan': 758,\n 'khun': 759,\n '1all': 760,\n 'destroyedthe': 761,\n 'uto': 762,\n '34100': 763,\n 'haramcontrolled': 764,\n '526': 765,\n 'interplay': 766,\n '1818': 767,\n 'nation': 768,\n 'janzur': 769,\n '317': 770,\n 'carryovers': 771,\n 'anxietyin': 772,\n 'precise': 773,\n 'remedios': 774,\n 'mill': 775,\n '71517': 776,\n 'marcela': 777,\n 'tedly': 778,\n 'environmentis': 779,\n 'jinni': 780,\n 'awajneh': 781,\n 'makonda': 782,\n 'volatility': 783,\n 'salinity': 784,\n 'tact': 785,\n '2072': 786,\n 'bathroom': 787,\n 'infectedthirty': 788,\n 'zambezi': 789,\n '8244': 790,\n 'cumulating': 791,\n '2084': 792,\n 'worsened': 793,\n 'source': 794,\n 'silangan': 795,\n 'stifled': 796,\n 'ninetyone': 797,\n 'elevenyearold': 798,\n '7345': 799,\n 'ratchathani': 800,\n 'gu': 801,\n '2342': 802,\n 'tardiya': 803,\n 'agridag': 804,\n 'assessme': 805,\n 'soskg': 806,\n 'skinny': 807,\n '129076': 808,\n 'rosefrom': 809,\n 'nelson': 810,\n 'short': 811,\n 'highimpact': 812,\n 'doma': 813,\n 'updatedthe': 814,\n 'junín': 815,\n 'vealed': 816,\n 'damaged': 817,\n 'noncompliance': 818,\n 'brunt': 819,\n 'distric': 820,\n 'ining': 821,\n 'purview': 822,\n 'tinakoff': 823,\n 'bivalent': 824,\n 'comparedcid160with': 825,\n 'languishing': 826,\n 'inciting': 827,\n 'taylalene': 828,\n 'antimilitary': 829,\n 'helmet': 830,\n '1725': 831,\n 'fuqin': 832,\n 'readmission': 833,\n '2018most': 834,\n 'sitesthe': 835,\n 'privileged': 836,\n 'choleraawd': 837,\n 'estefanos': 838,\n 'trarza': 839,\n 'decongest': 840,\n 'zaafaraneh': 841,\n '336': 842,\n 'eos': 843,\n 'neighbouring': 844,\n 'opd': 845,\n 'tuition': 846,\n 'clarendon': 847,\n 'leveling': 848,\n 'woredasdistricts': 849,\n 'septem': 850,\n 'unsmil': 851,\n 'aljazeerathe': 852,\n 'officialjay': 853,\n '6080': 854,\n 'ghi': 855,\n 'insecurty': 856,\n 'locations1': 857,\n 'jovito': 858,\n 'agoapart': 859,\n 'edo1': 860,\n 'standardized': 861,\n 'dalori': 862,\n 'jakusko': 863,\n 'kah': 864,\n 'lotidiang': 865,\n 'saakow': 866,\n 'hardware': 867,\n 'abdrabbuh': 868,\n 'heartrelated': 869,\n 'altaybah': 870,\n 'epizootics': 871,\n 'ditch': 872,\n 'sped': 873,\n 'upended': 874,\n '5582': 875,\n 'kilolo': 876,\n 'desperate': 877,\n 'procedure9': 878,\n '15826': 879,\n 'rented': 880,\n 'nbc': 881,\n 'polioendemic': 882,\n 'imtithal': 883,\n 'aources': 884,\n 'solidarité': 885,\n 'lara': 886,\n 'seeps': 887,\n 'tern': 888,\n 'ver': 889,\n 'rosewood': 890,\n 'mob': 891,\n 'wek': 892,\n 'confiscating': 893,\n '3323': 894,\n '59077': 895,\n 'deosai': 896,\n '214': 897,\n 'quiché': 898,\n 'insecurity25': 899,\n 'chhieng': 900,\n 'bordersthe': 901,\n 'sourceshowever': 902,\n '30kgs': 903,\n 'coordinate': 904,\n 'zaatari': 905,\n 'inj': 906,\n 'father': 907,\n 'reestablishing': 908,\n '28849': 909,\n 'alqaedalinked': 910,\n 'groups18': 911,\n 'liken': 912,\n '6032': 913,\n '19092017': 914,\n 'purportedly': 915,\n 'badie': 916,\n 'outpour': 917,\n 'ride': 918,\n '69000': 919,\n '126127': 920,\n 'auki': 921,\n 'frc': 922,\n 'uaes': 923,\n 'assisted': 924,\n 'spoil': 925,\n 'teachers30': 926,\n 'qasr': 927,\n '15600': 928,\n 'locat': 929,\n '664': 930,\n 'exfighters': 931,\n 'mtedenli': 932,\n 'malakalthey': 933,\n 'shekel': 934,\n 'stated': 935,\n 'askar': 936,\n 'hardworking': 937,\n 'essam': 938,\n '195090': 939,\n 'increased': 940,\n 'sir': 941,\n 'sangaya': 942,\n 'ferwana': 943,\n 'dapards': 944,\n 'kagabandoro': 945,\n 'decision': 946,\n 'bugambe': 947,\n 'safeguard': 948,\n 'plata': 949,\n 'ced': 950,\n 'proportional': 951,\n 'survivedroughts': 952,\n 'lufilya': 953,\n 'dealyet': 954,\n 'kubis': 955,\n 'turkishadministered': 956,\n 'ploitation': 957,\n 'patriotic': 958,\n '39': 959,\n '3889': 960,\n 'mitiga': 961,\n 'countrymalek': 962,\n 'matiangi': 963,\n 'oneineight': 964,\n '25approximately': 965,\n 'mzn6750kg': 966,\n 'hotline': 967,\n '37500': 968,\n 'hydropower': 969,\n 'pollute': 970,\n 'kamenge': 971,\n 'masvingo': 972,\n 'adv': 973,\n 'handpump': 974,\n 'repairsrehabilitations': 975,\n 'gworam': 976,\n '78560': 977,\n 'diseas': 978,\n 'omurbek': 979,\n 'mobilisation': 980,\n 'usdmt': 981,\n 'erw': 982,\n 'murta': 983,\n 'dhamar': 984,\n 'dilapidated': 985,\n 'sickens': 986,\n 'computation': 987,\n 'classmate': 988,\n 'widest': 989,\n 'pnlmtncp': 990,\n 'division': 991,\n 'diseased': 992,\n 'hodhs': 993,\n 'blatantly': 994,\n 'womenin': 995,\n 'streamlined': 996,\n 'hardtoreachareas': 997,\n '295376': 998,\n 'ssk': 999,\n ...}"
     },
     "execution_count": 35,
     "metadata": {},
     "output_type": "execute_result"
    }
   ],
   "source": [
    "word_embeddings"
   ],
   "metadata": {
    "collapsed": false,
    "ExecuteTime": {
     "end_time": "2023-12-22T16:27:09.718693Z",
     "start_time": "2023-12-22T16:27:09.714618Z"
    }
   }
  },
  {
   "cell_type": "code",
   "execution_count": 40,
   "outputs": [],
   "source": [
    "class DocumentDataset(Dataset):\n",
    "    def __init__(self, dataframe, word_dict, max_doc_length):\n",
    "        self.dataframe = dataframe\n",
    "        self.word_dict = word_dict\n",
    "        self.max_doc_length = max_doc_length\n",
    "        \n",
    "    def __len__(self):\n",
    "        return len(self.dataframe)\n",
    "    \n",
    "    def __getitem__(self, idx):\n",
    "        sentence = self.dataframe.iloc[idx]['text']\n",
    "        label = self.dataframe.iloc[idx]['label']\n",
    "        \n",
    "        word_ids = [self.word_dict[i] for i in sentence]\n",
    "        \n",
    "        if len(word_ids) < self.max_doc_length:\n",
    "            word_ids += [0] * (self.max_doc_length - len(word_ids))\n",
    "        else:\n",
    "            word_ids = word_ids[:self.max_doc_length]\n",
    "            \n",
    "        return torch.tensor(word_ids), label "
   ],
   "metadata": {
    "collapsed": false,
    "ExecuteTime": {
     "end_time": "2023-12-22T16:29:52.956657Z",
     "start_time": "2023-12-22T16:29:52.949800Z"
    }
   }
  },
  {
   "cell_type": "code",
   "execution_count": 53,
   "outputs": [
    {
     "name": "stdout",
     "output_type": "stream",
     "text": [
      "tensor([[ 8661, 16110, 12248, 26610, 31541, 13176, 37167, 27599, 15459, 27081,\n",
      "         33962,  8661, 37167, 19094, 40203, 12455, 31070, 16110,  2583, 39214,\n",
      "         37167, 37167, 20624, 19808, 12704, 14668,  6114, 12481,   363, 27081,\n",
      "         22423, 24041, 29532,     0,     0,     0,     0,     0,     0,     0,\n",
      "             0,     0,     0,     0,     0,     0,     0,     0,     0,     0],\n",
      "        [21157, 27323, 37740, 37627,  5558,  8558,  9841, 11885,  4164, 25298,\n",
      "         33891,  8558, 15542,  5558,  8516, 19302,     0,     0,     0,     0,\n",
      "             0,     0,     0,     0,     0,     0,     0,     0,     0,     0,\n",
      "             0,     0,     0,     0,     0,     0,     0,     0,     0,     0,\n",
      "             0,     0,     0,     0,     0,     0,     0,     0,     0,     0]]) tensor([3, 4])\n"
     ]
    }
   ],
   "source": [
    "max_document_length = 50\n",
    "batch_size = 2\n",
    "\n",
    "dataset = DocumentDataset(test_set, word_embeddings, max_document_length)\n",
    "data_loader = DataLoader(dataset, batch_size=batch_size, shuffle=True)"
   ],
   "metadata": {
    "collapsed": false,
    "ExecuteTime": {
     "end_time": "2023-12-22T16:30:53.970102Z",
     "start_time": "2023-12-22T16:30:53.964413Z"
    }
   }
  },
  {
   "cell_type": "markdown",
   "metadata": {},
   "source": [
    "<a name=\"section-taskB\"></a><h2 style=\"color:rgb(0,120,170)\">Task B: Document Classification with BERT (15 points)</h2>"
   ]
  },
  {
   "cell_type": "markdown",
   "metadata": {},
   "source": [
    "This task aims to conduct the same document classification as Task A, but now by utilizing a pre-trained BERT model. Feel free to reuse any code from the previous task. The implementation of the classifier should cover the points below.\n",
    "\n",
    "**Loading BERT model (2 points):** Use the `transformers` library from `huggingface` to load a (small) pre-trained BERT model. Select a BERT model according to your available resources. The available models can be found [here](https://huggingface.co/models) and [here](https://github.com/google-research/bert).\n",
    "\n",
    "**BERT tokenization (3 points):** For training BERT models, we do not need to create a dictionary anymore, as a BERT model already contains an internal subword dictionary. Following the instruction in `transformers`'s documentation, tokenize the data using the BERT model.  \n",
    "\n",
    "**Model definition and forward function (5 points):** Define the class **`ClassificationBERTModel`** as a PyTorch model. In the initialization procedure, the model receives the loaded BERT model and stores it as the model's parameter. The parameters of the BERT model should be trainable. The forward function of the model receives a batch of data, passes this batch to BERT, and achieves the corresponding document embeddings from the output of BERT. Similar to the previous task, the document embeddings are used for classification by linearly transforming document embeddings to the vectors with the number of classes, followed by applying Softmax.\n",
    "\n",
    "**Training and overall functionality (3 points):** Train the model in a similar fashion to the previous task, namely with the proper loss function, optimization, and early stoping.\n",
    "\n",
    "**Test Set Evaluation (1 point):** After finishing the training, load the (already stored) best performing model, and use it for class prediction on the test set.\n",
    "\n",
    "**Reporting (1 point):** Report the results of the best performing model on the validation and test set in a table.\n"
   ]
  },
  {
   "cell_type": "code",
   "execution_count": null,
   "metadata": {},
   "outputs": [],
   "source": []
  },
  {
   "cell_type": "code",
   "execution_count": null,
   "metadata": {},
   "outputs": [],
   "source": []
  }
 ],
 "metadata": {
  "kernelspec": {
   "display_name": "Python 3 (ipykernel)",
   "language": "python",
   "name": "python3"
  },
  "language_info": {
   "codemirror_mode": {
    "name": "ipython",
    "version": 3
   },
   "file_extension": ".py",
   "mimetype": "text/x-python",
   "name": "python",
   "nbconvert_exporter": "python",
   "pygments_lexer": "ipython3",
   "version": "3.9.6"
  }
 },
 "nbformat": 4,
 "nbformat_minor": 4
}
