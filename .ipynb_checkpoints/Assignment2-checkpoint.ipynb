{
 "cells": [
  {
   "cell_type": "markdown",
   "metadata": {},
   "source": [
    "Please fill out the information of your group!\n",
    "\n",
    "| <p style=\"text-align: center;\">First Name</p>  | <p style=\"text-align: center;\">Family Name</p> | Matr.-No. |\n",
    "| ---------------------------------------------- | ---------------------------------------------- | -------- |\n",
    "| <p style=\"text-align: left\">*Abel*</p>| <p style=\"text-align: left\">*Boros*</p> | *K11944603* |\n",
    "| <p style=\"text-align: left\">*Basit*</p>| <p style=\"text-align: left\">*Nadeem*</p> | *K12248140* |\n"
   ]
  },
  {
   "cell_type": "markdown",
   "metadata": {},
   "source": [
    "<h2 style=\"text-align: center\">344.105/6/7 UE: Natural Language Processing (WS2023/24)</h2>\n",
    "<h1 style=\"color:rgb(0,120,170)\">Assignment 2</h1>\n",
    "<h2 style=\"color:rgb(0,120,170)\">Getting to Know Word Embedding!</h2>"
   ]
  },
  {
   "cell_type": "markdown",
   "metadata": {},
   "source": [
    "<b>Terms of Use</b><br>\n",
    "This  material is prepared for educational purposes at the Johannes Kepler University (JKU) Linz, and is exclusively provided to the registered students of the mentioned course at JKU. It is strictly forbidden to distribute the current file, the contents of the assignment, and its solution. The use or reproduction of this manuscript is only allowed for educational purposes in non-profit organizations, while in this case, the explicit prior acceptance of the author(s) is required.\n",
    "\n",
    "**Authors:** Navid Rekab-saz, Oleg Lesota<br>\n"
   ]
  },
  {
   "cell_type": "markdown",
   "metadata": {},
   "source": [
    "<h2>Table of contents</h2>\n",
    "<ol>\n",
    "    <a href=\"#section-general-guidelines\"><li style=\"font-size:large;font-weight:bold\">General Guidelines</li></a>\n",
    "    <a href=\"#section-taskA\"><li style=\"font-size:large;font-weight:bold\">Task A: Words Similarity and Nearest Neighbors (15 points)</li></a>\n",
    "    <a href=\"#section-taskB\"><li style=\"font-size:large;font-weight:bold\">Task B: Document Classification with Word Embedding (15 points)</li></a>\n",
    "    <a href=\"#section-taskC\"><li style=\"font-size:large;font-weight:bold\">Task C: Classification with sent2vec Document Embeddings (2 extra point)</li></a>\n",
    "    <a href=\"#section-references\"><li style=\"font-size:large;font-weight:bold\">References</li></a>\n",
    "    \n",
    "</ol>"
   ]
  },
  {
   "cell_type": "markdown",
   "metadata": {},
   "source": [
    "<a name=\"section-general-guidelines\"></a><h2 style=\"color:rgb(0,120,170)\">General Guidelines</h2>"
   ]
  },
  {
   "cell_type": "markdown",
   "metadata": {},
   "source": [
    "### Assignment objective\n",
    "The aim of this assignment is to get familiarized with using word embedding (WE) models in practice. The assignment in total has **30 points**; it also offers **2 extra points** which can cover any missing point.\n",
    "\n",
    "This Notebook encompasses all aspects of the assignment, namely the descriptions of tasks as well as your solutions and reports. Feel free to add any required cell for solutions. The cells can contain code, reports, charts, tables, or any other material, required for the assignment. Feel free to provide the solutions in an interactive and visual way! \n",
    "\n",
    "Please discuss any unclear point in the assignment in the provided forum in MOODLE. It is also encouraged to provide answers to your peer's questions. However when submitting a post, keep in mind to avoid providing solutions. Please let the tutor(s) know shall you find any error or unclarity in the assignment.\n"
   ]
  },
  {
   "cell_type": "markdown",
   "metadata": {},
   "source": [
    "### Libraries & Dataset\n",
    "\n",
    "The assignment should be implemented with recent versions of `Python` (>3.7). Any standard Python library can be used, so far that the library is free and can be simply installed using `pip` or `conda`. Examples of potentially useful libraries are `scikit-learn`, `numpy`, `scipy`, `gensim`, `nltk`, `spaCy`, and `AllenNLP`. Use the latest stable version of each library.\n",
    "\n",
    "To conduct the experiments, we use a subset of the `HumSet` dataset [1] (https://blog.thedeep.io/humset/). `HumSet` is created by the DEEP (https://www.thedeep.io) project – an open source platform which aims to facilitate processing of textual data for international humanitarian response organizations. The platform enables the classification of text excerpts, extracted from news and reports into a set of domain specific classes. The provided dataset contains the classes (labels) referring to the humanitarian sectors like agriculture, health, and protection. The dataset contains an overall number of 17,301 data points. \n",
    "\n",
    "Download the dataset from the Moodle page of the course.\n",
    "\n",
    "the provided zip file consists of the following files:\n",
    "- `thedeep.subset.train.txt`: Train set in csv format with three fields: sentence_id, text, and label.\n",
    "- `thedeep.subset.validation.txt`: Validation set in csv format with three fields: sentence_id, text, and label.\n",
    "- `thedeep.subset.test.txt`: Test set in csv format with three fields: sentence_id, text, and label.\n",
    "- `thedeep.subset.label.txt`: Captions of the labels.\n",
    "- `thedeep.ToU.txt`: Terms of use of the dataset.\n",
    "\n",
    "[1] HumSet: Dataset of Multilingual Information Extraction and Classification for Humanitarian Crises Response\n",
    "*Selim Fekih, Nicolo' Tamagnone, Benjamin Minixhofer, Ranjan Shrestha, Ximena Contla, Ewan Oglethorpe and Navid Rekabsaz.* \n",
    "In Findings of the 2022 Conference on Empirical Methods in Natural Language Processing (Findings of EMNLP), December 2022.\n"
   ]
  },
  {
   "cell_type": "markdown",
   "metadata": {},
   "source": [
    "\n",
    "### Submission\n",
    "\n",
    "Each group should submit the following two files:\n",
    "\n",
    "- One Jupyter Notebook file (`.ipynb`), containing all the code, results, visualizations, etc. **In the submitted Notebook, all the results and visualizations should already be present, and can be observed simply by loading the Notebook in a browser.** The Notebook must be self-contained, meaning that (if necessary) one can run all the cells from top to bottom without any error. Do not forget to put in your names and student numbers in the first cell of the Notebook. \n",
    "- The HTML file (`.html`) achieved from exporting the Jupyter Notebook to HTML (Download As HTML).\n",
    "\n",
    "You do not need to include the data files in the submission.\n"
   ]
  },
  {
   "cell_type": "markdown",
   "metadata": {},
   "source": [
    "<a name=\"section-taskA\"></a><h2 style=\"color:rgb(0,120,170)\">Task A: Words Similarity and Nearest Neighbors (15 points)</h2>"
   ]
  },
  {
   "cell_type": "markdown",
   "metadata": {},
   "source": [
    "\n",
    "**Loading a word embedding (WE) model (1 points).** Download a pre-trained word embedding model such as word2vec (https://code.google.com/archive/p/word2vec/) or GloVe (https://nlp.stanford.edu/projects/glove/). You can load the downloaded vectors into arrays, or use libraries such as `gensim` to download and process the vectors. \n",
    "\n",
    "**Calculating word-to-word similarities (4 points).** Select <ins>5 arbitrary words</ins> from 5 different topics like objects, science disciplines, verbs, adjectives, animals, etc. Let us refer to these words as *source words*. For each source word, calculate its cosine similarities to <ins>6 target words</ins>. The target words of each source word are also selected by you and should cover various levels of semantic relations – according to your linguistic judgement – to the source word, namely from highly-related to not related at all. Organize the target words in tables, such that the target words of each source word are sorted from the highest to the lowest relevance (according to your judgement). Consider the following points:\n",
    "\n",
    "- **Implementation (2/4 points):** Implement cosine similarity as a function that takes two vectors and returns the similarity score. Implement cosine by yourself and do NOT use the provided functionalities of any library.\n",
    "- **Reporting and observations (2/4 points):** Report the calculated similarities side by side with your word-to-word semantic relevance judgements in tables. Compare the results and report your observations.  \n",
    "\n",
    "**Calculating nearest neighbors (10 points).** For the 5 source words, retrieve the $k=10$ nearest neighbors using the word embedding model, namely the words with the highest similarities to the source word. Consider the following points: \n",
    "    \n",
    "- **Overall implementation (3/10 points):** your implemented function takes a source vector, a set of target vectors, and the $k$ parameter, and returns the $k$ nearest neighbors and their similarity scores. Implement nearest neighbor calculation by yourself and do NOT use the provided functionalities of any library.\n",
    "- **Similarity metrics (2/10 points):** execute the calculation of nearest neighbors according to <ins>two similarity metrics</ins> namely cosine and dot product.\n",
    "- **Efficiency (3/10 points):** your nearest neighbor functions should provide an *efficient* calculation of nearest neighbors. An inefficient way (which should be avoided!) would be looping over the set of vectors in the word embedding model, and one by one calculating the cosine/dot product similarity of the source vector to each of the target vectors. As a hint for an efficient way, consider that in `numpy` (and other libraries), calculating the dot product of a vector to a matrix is much faster than the dot products of the vector to each vector of the matrix.\n",
    "- **Reporting and observations (2/10 points):** report the results in tables, which enable comparing between the outputs of the two similarity metrics. Which similarity metric would you prefer? Report your observations.\n",
    "\n",
    "</div>"
   ]
  },
  {
   "cell_type": "markdown",
   "metadata": {
    "collapsed": false
   },
   "source": [
    "<h2>Task A</h2>"
   ]
  },
  {
   "cell_type": "code",
   "execution_count": 1,
   "metadata": {
    "ExecuteTime": {
     "end_time": "2023-12-06T19:53:15.800738Z",
     "start_time": "2023-12-06T19:53:14.748131Z"
    }
   },
   "outputs": [],
   "source": [
    "import numpy as np\n",
    "from scipy import spatial\n",
    "import matplotlib.pyplot as plt\n",
    "from sklearn.manifold import TSNE\n",
    "#from gensim.models import KeyedVectors\n",
    "\n",
    "def load_we(word_embeddings_file):\n",
    "    embeddings_dict = {}\n",
    "    with open(word_embeddings_file, 'r', encoding=\"utf-8\") as f:\n",
    "        for line in f:\n",
    "            values = line.split()\n",
    "            word = values[0]\n",
    "            vector = np.asarray(values[1:], \"float32\")\n",
    "            embeddings_dict[word] = vector\n",
    "    return embeddings_dict\n",
    "\n",
    "def vector_normalization(vector):\n",
    "    # vector: 1 Dimensional array of word embeddings\n",
    "    # Returns the normalized vector\n",
    "    \n",
    "    norm = np.array(np.linalg.norm(vector))\n",
    "    if norm == 0: return\n",
    "    return vector / norm\n",
    "\n",
    "def matrix_normalization(matrix):\n",
    "    # vector: 2 Dimensional array of word embeddings\n",
    "    # Returns the normalized matrix\n",
    "    \n",
    "    norm = np.array(np.linalg.norm(matrix, axis=1))\n",
    "    for i in norm: \n",
    "        if i == 0:\n",
    "            return\n",
    "        \n",
    "    return matrix / norm[:, np.newaxis]\n",
    "\n",
    "def nearest_neighbors(source_embeddings, target_embeddings:dict, k=10):\n",
    "    # source_embeddings: source_word embeddings vector\n",
    "    # target_embeddings: the whole embeddings dictionary, we need the keys and the values too\n",
    "    # k: number of neighbors by default it's 10\n",
    "    # Returns the k nearest word based on cosine similarity\n",
    "    \n",
    "    _target_embeddings = np.array(list(target_embeddings.values()))\n",
    "    \n",
    "    # Normalize vectors\n",
    "    source_embeddings_normalized = vector_normalization(source_embeddings)\n",
    "    target_embeddings_normalized = matrix_normalization(_target_embeddings)\n",
    "    \n",
    "    cosine_similarities = np.dot(target_embeddings_normalized, source_embeddings_normalized.T)\n",
    "    dot_product = np.dot(_target_embeddings, source_embeddings.T)\n",
    "    \n",
    "    # Argsort -> Get the last k+1 elemnet because the last element is always the same as the source word ->\n",
    "    # reverse the order from ascending to descending -> cut the source word out from the list \n",
    "    nearest_indices_c = np.argsort(cosine_similarities)[-(k+1):][::-1][1:]\n",
    "    nearest_indices_d = np.argsort(dot_product)[-(k+1):][::-1][1:]\n",
    "    \n",
    "    nearest_indices_c = nearest_indices_c.tolist()\n",
    "    nearest_indices_d = nearest_indices_d.tolist()\n",
    "    nearest_keys_c = [list(target_embeddings.keys())[i] for i in nearest_indices_c]\n",
    "    nearest_keys_d = [list(target_embeddings.keys())[i] for i in nearest_indices_d]\n",
    "    \n",
    "    return nearest_keys_c, nearest_keys_d\n",
    "\n",
    "def cosine_similarity(embeddings, word1, word2):\n",
    "    vec1, vec2 = embeddings[word1], embeddings[word2]\n",
    "    dot_product = np.dot(vec1, vec2)\n",
    "    norm1 = np.linalg.norm(vec1)\n",
    "    norm2 = np.linalg.norm(vec2)\n",
    "    similarity = dot_product / (norm1 * norm2)\n",
    "    return similarity\n",
    "\n",
    "def cosine_similarity_sorted(embeddings, source_word, target_words:list):\n",
    "    similarities = [(target, cosine_similarity(embeddings, source_word, target)) for target in target_words]\n",
    "    return sorted(similarities, key=lambda x: x[1], reverse=True)\n",
    "\n",
    "def print_neighbors(source_word, neighbors_c, neighbors_d):\n",
    "    print(f\"Source Word: {source_word}\")\n",
    "    print(\"Nearest Neighbors\")\n",
    "    print(\"{:<20} {:<20}\".format(\"Cosine Similarity\", \"Dot Product\"))\n",
    "    print(\"---------------------------------------------------------------------\")\n",
    "    for n_c, n_d in zip(neighbors_c, neighbors_d):\n",
    "        print(\"{:<20} {:<20}\".format(n_c, n_d))\n",
    "\n",
    "def print_similarities(sorted_similarities):\n",
    "    print(f\"Source Word: {source_word}\")\n",
    "    print(\"{:<15} {:<20}\".format(\"Target Word\", \"Cosine Similarity\"))\n",
    "    print(\"--------------------------------------\")\n",
    "    for target, similarity in sorted_similarities:\n",
    "        print(\"{:<15} {:.4f}\".format(target, similarity))"
   ]
  },
  {
   "cell_type": "code",
   "execution_count": 2,
   "metadata": {
    "collapsed": false,
    "ExecuteTime": {
     "end_time": "2023-12-06T19:53:17.855148Z",
     "start_time": "2023-12-06T19:53:15.799465Z"
    }
   },
   "outputs": [],
   "source": [
    "glove_embeddings = load_we(\"./glove.6B/glove.6B.50d.txt\")"
   ]
  },
  {
   "cell_type": "code",
   "execution_count": 3,
   "metadata": {
    "collapsed": false,
    "ExecuteTime": {
     "end_time": "2023-12-06T19:53:17.855635Z",
     "start_time": "2023-12-06T19:53:17.840051Z"
    }
   },
   "outputs": [],
   "source": [
    "task_a_dict = {\n",
    "    'fox': ['dog', 'cat', 'forest', 'tree', 'chair', 'car'],\n",
    "    'mountain': ['elevation', 'climb', 'river', 'computer', 'symphony', 'lamp'],\n",
    "    'coffee': ['espresso', 'aroma', 'beach', 'keyboard', 'philosophy', 'shoe'],\n",
    "    'forest': ['tree', 'wildlife', 'cloud', 'television', 'happiness', 'umbrella'],\n",
    "    'oxygen': ['air', 'breathe', 'mountain', 'camera', 'language', 'shoe']\n",
    "}"
   ]
  },
  {
   "cell_type": "code",
   "execution_count": 4,
   "metadata": {
    "collapsed": false,
    "ExecuteTime": {
     "end_time": "2023-12-06T19:53:17.856744Z",
     "start_time": "2023-12-06T19:53:17.844513Z"
    }
   },
   "outputs": [
    {
     "name": "stdout",
     "output_type": "stream",
     "text": [
      "Source Word: fox\n",
      "Target Word     Cosine Similarity   \n",
      "--------------------------------------\n",
      "dog             0.4528\n",
      "cat             0.4375\n",
      "car             0.2790\n",
      "chair           0.2544\n",
      "forest          0.2244\n",
      "tree            0.1965\n",
      "\n",
      "\n",
      "Source Word: mountain\n",
      "Target Word     Cosine Similarity   \n",
      "--------------------------------------\n",
      "river           0.6770\n",
      "climb           0.6223\n",
      "elevation       0.5607\n",
      "computer        0.2068\n",
      "lamp            0.1792\n",
      "symphony        0.0866\n",
      "\n",
      "\n",
      "Source Word: coffee\n",
      "Target Word     Cosine Similarity   \n",
      "--------------------------------------\n",
      "espresso        0.6471\n",
      "aroma           0.4991\n",
      "shoe            0.4966\n",
      "beach           0.3830\n",
      "keyboard        0.1481\n",
      "philosophy      0.1437\n",
      "\n",
      "\n",
      "Source Word: forest\n",
      "Target Word     Cosine Similarity   \n",
      "--------------------------------------\n",
      "wildlife        0.7564\n",
      "tree            0.6784\n",
      "cloud           0.5654\n",
      "umbrella        0.3433\n",
      "happiness       0.1608\n",
      "television      0.1116\n",
      "\n",
      "\n",
      "Source Word: oxygen\n",
      "Target Word     Cosine Similarity   \n",
      "--------------------------------------\n",
      "breathe         0.5756\n",
      "air             0.5003\n",
      "camera          0.3737\n",
      "mountain        0.1781\n",
      "shoe            0.0984\n",
      "language        0.0950\n",
      "\n"
     ]
    }
   ],
   "source": [
    "for source_word in task_a_dict.keys():\n",
    "    target_words = task_a_dict[source_word]\n",
    "    sorted_similarities = cosine_similarity_sorted(glove_embeddings, source_word, target_words)\n",
    "    print_similarities(sorted_similarities)\n",
    "    print('\\n')"
   ]
  },
  {
   "cell_type": "markdown",
   "metadata": {
    "collapsed": false
   },
   "source": [
    "<b>Nearest Neighbors</b>"
   ]
  },
  {
   "cell_type": "code",
   "execution_count": 5,
   "metadata": {
    "collapsed": false,
    "ExecuteTime": {
     "end_time": "2023-12-06T19:53:21.563832Z",
     "start_time": "2023-12-06T19:53:17.861768Z"
    }
   },
   "outputs": [
    {
     "name": "stdout",
     "output_type": "stream",
     "text": [
      "Source Word: fox\n",
      "Nearest Neighbors\n",
      "Cosine Similarity    Dot Product         \n",
      "---------------------------------------------------------------------\n",
      "abc                  nbc                 \n",
      "nbc                  television          \n",
      "cbs                  cbs                 \n",
      "tv                   tv                  \n",
      "turner               abc                 \n",
      "disney               aired               \n",
      "television           channel             \n",
      "show                 movie               \n",
      "cnn                  cnn                 \n",
      "aired                broadcast           \n",
      "\n",
      "Source Word: mountain\n",
      "Nearest Neighbors\n",
      "Cosine Similarity    Dot Product         \n",
      "---------------------------------------------------------------------\n",
      "mountains            mountains           \n",
      "valley               valley              \n",
      "hills                europe/africa       \n",
      "foothills            river               \n",
      "slopes               slopes              \n",
      "ridge                foothills           \n",
      "desert               hills               \n",
      "canyon               desert              \n",
      "peaks                near                \n",
      "alpine               creek               \n",
      "\n",
      "Source Word: coffee\n",
      "Nearest Neighbors\n",
      "Cosine Similarity    Dot Product         \n",
      "---------------------------------------------------------------------\n",
      "drink                plumaged            \n",
      "drinks               wine                \n",
      "wine                 corn                \n",
      "tea                  food                \n",
      "beer                 vegetables          \n",
      "food                 drinks              \n",
      "sugar                bread               \n",
      "corn                 juice               \n",
      "vegetable            drink               \n",
      "beverage             beer                \n",
      "\n",
      "Source Word: forest\n",
      "Nearest Neighbors\n",
      "Cosine Similarity    Dot Product         \n",
      "---------------------------------------------------------------------\n",
      "forests              forest              \n",
      "habitat              habitat             \n",
      "woodland             habitats            \n",
      "woodlands            grassland           \n",
      "wildlife             montane             \n",
      "pine                 vegetation          \n",
      "vegetation           subtropical         \n",
      "swamp                lowland             \n",
      "mangrove             trees               \n",
      "rainforest           acres               \n",
      "\n",
      "Source Word: oxygen\n",
      "Nearest Neighbors\n",
      "Cosine Similarity    Dot Product         \n",
      "---------------------------------------------------------------------\n",
      "hydrogen             hydrogen            \n",
      "liquid               nitrogen            \n",
      "nitrogen             dioxide             \n",
      "chlorine             liquid              \n",
      "helium               radiation           \n",
      "ammonia              nutrients           \n",
      "methane              methane             \n",
      "blood                gases               \n",
      "nutrients            glucose             \n",
      "fluids               insulin             \n",
      "\n"
     ]
    }
   ],
   "source": [
    "for source_word in task_a_dict.keys():\n",
    "    sorted_similarities_c, sorted_similarities_d = nearest_neighbors(glove_embeddings[source_word], glove_embeddings)\n",
    "    print_neighbors(source_word, sorted_similarities_c, sorted_similarities_d)\n",
    "    print('\\n')"
   ]
  },
  {
   "cell_type": "markdown",
   "source": [
    "<b>Based on just plain semantical observation between the Dot Product and the Cosine Similarty the difference is that Cosine is finding related words but won't try to find synonims for it. However, dot product is trying to find synonims or words that could be placed instead of that word. To choose one first we would need to know the use case. If we want to find sentences which is basically saying the same thing then I would use dot product. In other cases where we only want to have kind of similar meaning we could go for cosine symilarity.</b>"
   ],
   "metadata": {
    "collapsed": false
   }
  },
  {
   "cell_type": "markdown",
   "metadata": {},
   "source": [
    "<a name=\"section-taskB\"></a><h2 style=\"color:rgb(0,120,170)\">Task B: Document Classification with WE (15 points)</h2>"
   ]
  },
  {
   "cell_type": "markdown",
   "metadata": {},
   "source": [
    "\n",
    "This task follows the same instruction for document classification as provided in Assignment 1. You are indeed free to reuse any part of your code in Assignment 1 for this task. In Assignment 1, the representation of each document was created using a bag of words representation followed by dimensionality reduction. In this task, the document representations are created from the pre-trained word embeddings.\n",
    "\n",
    "**Map word embeddings to dictionary words (5 points).** For every word in the dictionary (as discussed and created in Assignment 1), fetch the corresponding word embedding from the pre-trained model. If no embedding is found, initialize the corresponding word embedding randomly.\n",
    "\n",
    "**Document embedding as the average of word embeddings (5 points).** Using the word embeddings, the representation of each document is defined as the *mean of the vectors of each document's words*. In particular, given the document $d$, consisting of words $\\left[ v_1, v_2, ..., v_{|d|} \\right]$, the document representation $\\mathbf{e}_d$ is defined as:\n",
    "\n",
    "$\\mathbf{e}_d = \\frac{1}{|d|}\\sum_{i=1}^{|d|}{\\mathbf{e}_{v_i}}$\n",
    "\n",
    "where $\\mathbf{e}_{v}$ is the vector of the word $v$, and $|d|$ is the length of the document.\n",
    "\n",
    "**Classification and evaluation (5 points)** Using these new document representations, apply <ins>three classification algorithms</ins> and report the evaluation results (based on accuracy metric) on the test set.\n",
    "\n"
   ]
  },
  {
   "cell_type": "code",
   "execution_count": 6,
   "metadata": {
    "ExecuteTime": {
     "end_time": "2023-12-06T19:53:29.569197Z",
     "start_time": "2023-12-06T19:53:21.568724Z"
    }
   },
   "outputs": [],
   "source": [
    "#Preprocessing pipeline From assignment 1\n",
    "\n",
    "import pandas as pd\n",
    "import nltk\n",
    "from nltk.stem import WordNetLemmatizer\n",
    "import re\n",
    "wordnet_lemmatizer = WordNetLemmatizer()\n",
    "\n",
    "# Utility functions\n",
    "\n",
    "def read_text(path_to_textfile):\n",
    "    return pd.read_csv(path_to_textfile, names=['sentence_id', 'text', 'label'])\n",
    "\n",
    "def text_to_lowercase(dataframe):\n",
    "    return dataframe['text'].apply(lambda text: text.lower())\n",
    "\n",
    "def remove_punctation(dataframe):\n",
    "    return dataframe['text'].apply(lambda text: re.sub(r'[^\\w\\s]', '', text))\n",
    "\n",
    "def tokenize(dataframe):\n",
    "    return dataframe['text'].apply(lambda text: nltk.word_tokenize(text))\n",
    "\n",
    "def lemmatize_text(text):\n",
    "    lemmatized_text = [wordnet_lemmatizer.lemmatize(word) for word in text]\n",
    "    return lemmatized_text\n",
    "\n",
    "def remove_stopwords_in_text(text):\n",
    "    stopwords = nltk.corpus.stopwords.words('english')\n",
    "    text_without_stopwords = [i for i in text if i not in stopwords]\n",
    "    return text_without_stopwords\n",
    "\n",
    "def remove_stopwords_from_dataframe(dataframe):\n",
    "    return dataframe['text'].apply(lambda text: remove_stopwords_in_text(text))\n",
    "\n",
    "def lemmatize_df(datafarme):\n",
    "    return datafarme['text'].apply(lambda text: lemmatize_text(text))\n",
    "\n",
    "preprocessing_pipeline = [text_to_lowercase,\n",
    "                          remove_punctation,\n",
    "                          tokenize,\n",
    "                          remove_stopwords_from_dataframe,\n",
    "                          lemmatize_df]\n",
    "\n",
    "train_set = read_text('./data/thedeep.subset.train.txt')\n",
    "validation_set = read_text('./data/thedeep.subset.validation.txt')\n",
    "test_set = read_text('./data/thedeep.subset.test.txt')\n",
    "\n",
    "for function in preprocessing_pipeline:\n",
    "    train_set['text'] = function(train_set)\n",
    "    validation_set['text'] = function(validation_set)\n",
    "    test_set['text'] = function(test_set)\n",
    "\n"
   ]
  },
  {
   "cell_type": "code",
   "execution_count": 7,
   "metadata": {
    "ExecuteTime": {
     "end_time": "2023-12-06T19:53:29.611306Z",
     "start_time": "2023-12-06T19:53:29.579957Z"
    }
   },
   "outputs": [],
   "source": [
    "# Combine the processed texts from all three sets\n",
    "combined_processed_texts = pd.concat([train_set['text'], validation_set['text'], test_set['text']])\n",
    "\n",
    "# Flattening the list of lists into a single list of words\n",
    "all_words = [word for text in combined_processed_texts for word in text]\n",
    "\n",
    "# Creating a set of unique words\n",
    "word_set = set(all_words)\n"
   ]
  },
  {
   "cell_type": "code",
   "execution_count": 8,
   "metadata": {
    "ExecuteTime": {
     "end_time": "2023-12-06T19:53:29.651379Z",
     "start_time": "2023-12-06T19:53:29.614714Z"
    }
   },
   "outputs": [],
   "source": [
    "# Function to initialize a random embedding\n",
    "def initialize_random_embedding(dimensions):\n",
    "    return np.random.random(dimensions)\n",
    "\n",
    "embedding_dimensions = 50\n",
    "\n",
    "# Mapping each word to its embedding\n",
    "word_embeddings = {}\n",
    "for word in word_set:\n",
    "    if word in glove_embeddings:\n",
    "        word_embeddings[word] = glove_embeddings[word]\n",
    "    else:\n",
    "        word_embeddings[word] = initialize_random_embedding(embedding_dimensions)\n",
    "\n",
    "# word_embeddings now contains the embedding for each word in dictionary\n"
   ]
  },
  {
   "cell_type": "markdown",
   "metadata": {},
   "source": [
    "#### Document embedding as the average of word embeddings"
   ]
  },
  {
   "cell_type": "code",
   "execution_count": 9,
   "metadata": {
    "ExecuteTime": {
     "end_time": "2023-12-06T19:53:30.042698Z",
     "start_time": "2023-12-06T19:53:29.664967Z"
    }
   },
   "outputs": [],
   "source": [
    "def document_embedding(document, word_embeddings, embedding_dimensions):\n",
    "    embeddings = [word_embeddings[word] for word in document if word in word_embeddings]\n",
    "\n",
    "    if not embeddings:  # If there are no words with embeddings in the document\n",
    "        return np.zeros(embedding_dimensions)\n",
    "\n",
    "    mean_embedding = np.mean(embeddings, axis=0)\n",
    "    return mean_embedding\n",
    "\n",
    "#embedding_dimensions = 50\n",
    "train_set['embedding'] = train_set['text'].apply(lambda doc: document_embedding(doc, word_embeddings, embedding_dimensions))\n",
    "validation_set['embedding'] = validation_set['text'].apply(lambda doc: document_embedding(doc, word_embeddings, embedding_dimensions))\n",
    "test_set['embedding'] = test_set['text'].apply(lambda doc: document_embedding(doc, word_embeddings, embedding_dimensions))"
   ]
  },
  {
   "cell_type": "markdown",
   "metadata": {},
   "source": [
    "#### Classification and Evaluation"
   ]
  },
  {
   "cell_type": "code",
   "execution_count": 11,
   "metadata": {
    "ExecuteTime": {
     "end_time": "2023-12-06T19:55:56.888669Z",
     "start_time": "2023-12-06T19:55:41.847891Z"
    }
   },
   "outputs": [
    {
     "name": "stdout",
     "output_type": "stream",
     "text": [
      "Classification Results:\n",
      "Logistic Regression: Validation Accuracy = 0.7331, Test Accuracy = 0.7299\n",
      "Random Forest: Validation Accuracy = 0.6918, Test Accuracy = 0.7017\n",
      "SVM: Validation Accuracy = 0.7415, Test Accuracy = 0.7376\n"
     ]
    }
   ],
   "source": [
    "from sklearn.metrics import accuracy_score\n",
    "from sklearn.linear_model import LogisticRegression\n",
    "from sklearn.ensemble import RandomForestClassifier\n",
    "from sklearn.svm import SVC\n",
    "\n",
    "\n",
    "# Initialize classifiers\n",
    "classifiers = {\n",
    "    \"Logistic Regression\": LogisticRegression(max_iter=1000),\n",
    "    \"Random Forest\": RandomForestClassifier(),\n",
    "    \"SVM\": SVC()\n",
    "}\n",
    "# Extracting features (embeddings) and labels\n",
    "X_train = np.array(train_set['embedding'].tolist())\n",
    "y_train = train_set['label']\n",
    "X_val = np.array(validation_set['embedding'].tolist())\n",
    "y_val = validation_set['label']\n",
    "X_test = np.array(test_set['embedding'].tolist())\n",
    "y_test = test_set['label']\n",
    "\n",
    "\n",
    "results = {}\n",
    "for name,clf in classifiers.items():\n",
    "  clf.fit(X_train, y_train)\n",
    "  # Validation Set evaluation\n",
    "  val_predictions = clf.predict(X_val)\n",
    "  val_accuracy = accuracy_score(y_val, val_predictions)\n",
    "\n",
    "  # Test Set evaluation\n",
    "  test_predictions = clf.predict(X_test)\n",
    "  test_accuracy = accuracy_score(y_test, test_predictions)\n",
    "\n",
    "  results[name] = {\n",
    "        \"Validation Accuracy\": val_accuracy,\n",
    "        \"Test Accuracy\": test_accuracy\n",
    "    }\n",
    "\n",
    "# Displaying the results\n",
    "print(\"Classification Results:\")\n",
    "for name, accuracies in results.items():\n",
    "    print(f\"{name}: Validation Accuracy = {accuracies['Validation Accuracy']:.4f}, Test Accuracy = {accuracies['Test Accuracy']:.4f}\")\n",
    "\n"
   ]
  },
  {
   "cell_type": "markdown",
   "metadata": {},
   "source": [
    "### Observations:\n",
    "\n",
    "- Logistic Regression: Validation Accuracy = 0.7331, Test Accuracy = 0.7299\n",
    "- Random Forest: Validation Accuracy = 0.6918, Test Accuracy = 0.7017\n",
    "- SVM: Validation Accuracy = 0.7415, Test Accuracy = 0.7376"
   ]
  },
  {
   "cell_type": "code",
   "execution_count": null,
   "metadata": {},
   "outputs": [],
   "source": []
  },
  {
   "cell_type": "markdown",
   "metadata": {},
   "source": [
    "<a name=\"section-taskC\"></a><h2 style=\"color:rgb(0,120,170)\">Task C: Classification with sent2vec Document Embeddings (2 extra point)</h2>"
   ]
  },
  {
   "cell_type": "markdown",
   "metadata": {},
   "source": [
    "\n",
    "Sent2vec [1] suggests another unsupervised approach to creating document embeddings from the underlying word embeddings. First, using the provided code in the paper, train a sendtvec model on the training set to create document embeddings. Then, repeat Task B while using the document embeddings provided by sent2vec. Similar to Task 2, conduct the classification experiments and report evaluation results.\n",
    "\n",
    "[1] M. Pagliardini, P. Gupta, and M. Jaggi. Unsupervised Learning of Sentence Embeddings using Compositional n-Gram Features. In Proceedings of the conference of the North American Chapter of the Association for Computational Linguistics (NAACL), 2018.\n"
   ]
  },
  {
   "cell_type": "code",
   "execution_count": null,
   "metadata": {},
   "outputs": [],
   "source": []
  },
  {
   "cell_type": "code",
   "execution_count": null,
   "metadata": {},
   "outputs": [],
   "source": []
  }
 ],
 "metadata": {
  "kernelspec": {
   "display_name": "Python 3 (ipykernel)",
   "language": "python",
   "name": "python3"
  },
  "language_info": {
   "codemirror_mode": {
    "name": "ipython",
    "version": 3
   },
   "file_extension": ".py",
   "mimetype": "text/x-python",
   "name": "python",
   "nbconvert_exporter": "python",
   "pygments_lexer": "ipython3",
   "version": "3.10.1"
  }
 },
 "nbformat": 4,
 "nbformat_minor": 4
}
